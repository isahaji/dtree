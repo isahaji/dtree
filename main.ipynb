{
 "metadata": {
  "language_info": {
   "codemirror_mode": {
    "name": "ipython",
    "version": 3
   },
   "file_extension": ".py",
   "mimetype": "text/x-python",
   "name": "python",
   "nbconvert_exporter": "python",
   "pygments_lexer": "ipython3",
   "version": "3.9.2"
  },
  "orig_nbformat": 2,
  "kernelspec": {
   "name": "python3",
   "display_name": "Python 3.9.2 64-bit"
  },
  "metadata": {
   "interpreter": {
    "hash": "082e9a3bcad0a290d0001e938aa60b99250c6c2ef33a923c00b70f9826caf4b7"
   }
  },
  "interpreter": {
   "hash": "aee8b7b246df8f9039afb4144a1f6fd8d2ca17a180786b69acc140d282b71a49"
  }
 },
 "nbformat": 4,
 "nbformat_minor": 2,
 "cells": [
  {
   "cell_type": "code",
   "execution_count": 17,
   "metadata": {},
   "outputs": [],
   "source": [
    "import pandas as pd \n",
    "dataset=pd.read_csv(\"titanic-passengers.csv\", sep=\";\")\n",
    "import graphviz\n",
    "#Preprocessing our data\n",
    "def preprocess_data(new_data):\n",
    "    new_data['Age'].fillna(new_data['Age'].mean(),inplace=True)\n",
    "    new_data.replace({'Sex':{'male': 1,'female':0}},inplace=True)\n",
    "    new_data['Cabin']=new_data.Cabin.fillna('G6')\n",
    "    new_data.replace({'Survived':{'Yes': 1,'No':0}},inplace=True)\n",
    "    return new_data\n",
    "data=preprocess_data(dataset)"
   ]
  },
  {
   "cell_type": "code",
   "execution_count": 30,
   "metadata": {},
   "outputs": [],
   "source": [
    "from sklearn.model_selection import train_test_split\n",
    "from sklearn import tree   \n",
    "from sklearn.tree import DecisionTreeClassifier\n",
    "from sklearn.metrics import accuracy_score\n",
    "from sklearn.ensemble import RandomForestClassifier\n",
    "from sklearn import metrics "
   ]
  },
  {
   "cell_type": "code",
   "execution_count": 31,
   "metadata": {},
   "outputs": [
    {
     "output_type": "stream",
     "name": "stdout",
     "text": [
      "score:0.7653631284916201\n"
     ]
    }
   ],
   "source": [
    "x=data.drop([\"Survived\", \"Name\", \"Cabin\", \"Ticket\", \"Embarked\"], axis=1)\n",
    "y= data[\"Survived\"]\n",
    "\n",
    "#splitting data\n",
    "x_train, x_test, y_train, y_test = train_test_split(x,y, test_size=0.20,random_state=10)\n",
    "\n",
    "#applying tree algorithm\n",
    "model = tree.DecisionTreeClassifier()  \n",
    "model.fit(x_train, y_train)   #fitting our model\n",
    "y_pred= model.predict(x_test)   # evaluating our model\n",
    "print(\"score:{}\".format(accuracy_score(y_test, y_pred)))"
   ]
  },
  {
   "cell_type": "code",
   "execution_count": 32,
   "metadata": {},
   "outputs": [],
   "source": [
    "dot_graph = tree.export_graphviz(model, out_file=None)\n",
    "graph = graphviz.Source(dot_graph)\n",
    "graph.render(\"data\")\n",
    "graph\n",
    "\n",
    "dtree = tree.DecisionTreeClassifier(criterion= \"gini\", splitter= 'random', max_leaf_nodes= 10, min_samples_leaf= 5, max_depth= 5)"
   ]
  },
  {
   "cell_type": "code",
   "execution_count": 34,
   "metadata": {},
   "outputs": [
    {
     "output_type": "stream",
     "name": "stdout",
     "text": [
      "<class 'pandas.core.frame.DataFrame'>\nRangeIndex: 891 entries, 0 to 890\nData columns (total 12 columns):\n #   Column       Non-Null Count  Dtype  \n---  ------       --------------  -----  \n 0   PassengerId  891 non-null    int64  \n 1   Survived     891 non-null    int64  \n 2   Pclass       891 non-null    int64  \n 3   Name         891 non-null    object \n 4   Sex          891 non-null    int64  \n 5   Age          891 non-null    float64\n 6   SibSp        891 non-null    int64  \n 7   Parch        891 non-null    int64  \n 8   Ticket       891 non-null    object \n 9   Fare         891 non-null    float64\n 10  Cabin        891 non-null    object \n 11  Embarked     889 non-null    object \ndtypes: float64(2), int64(6), object(4)\nmemory usage: 83.7+ KB\n"
     ]
    }
   ],
   "source": [
    "data.info()"
   ]
  },
  {
   "cell_type": "code",
   "execution_count": 44,
   "metadata": {},
   "outputs": [
    {
     "output_type": "stream",
     "name": "stdout",
     "text": [
      "Accuracy: 0.8603351955307262\n"
     ]
    }
   ],
   "source": [
    "X=data[['Sex', 'Age', 'Fare']] #features\n",
    "y=data['Survived']\n",
    "\n",
    "\n",
    "clf = RandomForestClassifier(n_estimators=10)  \n",
    "clf.fit(x_train, y_train)  \n",
    "y_pred=clf.predict(x_test)  \n",
    "print(\"Accuracy:\", metrics.accuracy_score(y_test, y_pred))  "
   ]
  },
  {
   "cell_type": "code",
   "execution_count": null,
   "metadata": {},
   "outputs": [],
   "source": []
  }
 ]
}